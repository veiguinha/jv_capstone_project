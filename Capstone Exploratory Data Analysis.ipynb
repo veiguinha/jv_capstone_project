{
 "cells": [
  {
   "cell_type": "markdown",
   "metadata": {},
   "source": [
    "# Capstone Project\n",
    "\n",
    "![academy_logo](assets\\academy_logo.JFIF)\n",
    "\n",
    "Project presented as partial requirement for obtaining the certification of Entry Level Data Scientist from **Lisbon Data Science Academy**."
   ]
  },
  {
   "cell_type": "markdown",
   "metadata": {},
   "source": [
    "## Introduction\n",
    "Predicting the outocome of whether or not a random car is making contraband and consequently allowing police to search the car is a relevant issue. Especially, in the state of Connecticut which has been receiving a lot of complaints about its stop and search policy used by its law enforcement agencies. The complainers of this matter claim to exist a bias towards people with certain backgrounds.\n",
    "\n",
    "The current literature about this topic in its majority attempts to...\n",
    "\n",
    "To conclude the objective of such project is to determined if the existent complaints are factual or not, and provide service to which a police officer request authorization for searching a car. The service, will try predict if a car is actually smugling anything or not"
   ]
  },
  {
   "cell_type": "markdown",
   "metadata": {},
   "source": [
    "# Imports"
   ]
  },
  {
   "cell_type": "code",
   "execution_count": 2,
   "metadata": {},
   "outputs": [],
   "source": [
    "# Necessary Imports\n",
    "import pandas as pd\n",
    "import numpy as np\n",
    "import os\n",
    "\n",
    "# Data Visualization\n",
    "import matplotlib.pyplot as plt\n",
    "import seaborn as sns\n",
    "\n",
    "# Pandas profiling to make an automatic study of all variables, may need to manually allow it in Anaconda\n",
    "import pandas_profiling\n",
    "\n",
    "# Web Scrapping \n",
    "import pandas as pd\n",
    "import requests\n",
    "import utils\n",
    "from bs4 import BeautifulSoup\n",
    "\n",
    "# Regular Expressions\n",
    "import re"
   ]
  },
  {
   "cell_type": "markdown",
   "metadata": {},
   "source": [
    "- create a map for the variable with the location\n",
    "- Check the relationshio with the target variable"
   ]
  },
  {
   "cell_type": "markdown",
   "metadata": {},
   "source": [
    "# 1- Understanding the data\n",
    "\n",
    "The files we have available for the **training** stage are:\n",
    "* `train.csv` has the bakcground of individuals that were pulled over during a police rodaside inspections and whether or not the car was searched"
   ]
  },
  {
   "cell_type": "markdown",
   "metadata": {},
   "source": [
    "## Reading the Training Dataset"
   ]
  },
  {
   "cell_type": "code",
   "execution_count": 3,
   "metadata": {},
   "outputs": [],
   "source": [
    "def read_data() -> pd.DataFrame:\n",
    "    \"\"\"Imports a dataset containing history of cars searched for contraband. \n",
    "                                    \n",
    "    Returns\n",
    "        data (pd.DataFrame): Represents the entire dataset, but it ensures that column names are lower case and that are no\n",
    "                                 whitespaces in between the names\n",
    "                             The dataframe holds values for:\n",
    "                                Operation Details and Results (location of the intervention for example) for each car,\n",
    "                                and the Background of a driver.\n",
    "                  \n",
    "    \"\"\"\n",
    "    path = os.path.join('data', 'train.csv')\n",
    "    data = pd.read_csv(path)\n",
    "    \n",
    "    #Check with Caetano if this is necessary\n",
    "    for name in data.columns:\n",
    "        \n",
    "        data = data.rename(columns={name:name.lower().replace(\" \", \"_\")})\n",
    "        \n",
    "    return data"
   ]
  },
  {
   "cell_type": "code",
   "execution_count": 4,
   "metadata": {},
   "outputs": [
    {
     "data": {
      "text/html": [
       "<div>\n",
       "<style scoped>\n",
       "    .dataframe tbody tr th:only-of-type {\n",
       "        vertical-align: middle;\n",
       "    }\n",
       "\n",
       "    .dataframe tbody tr th {\n",
       "        vertical-align: top;\n",
       "    }\n",
       "\n",
       "    .dataframe thead th {\n",
       "        text-align: right;\n",
       "    }\n",
       "</style>\n",
       "<table border=\"1\" class=\"dataframe\">\n",
       "  <thead>\n",
       "    <tr style=\"text-align: right;\">\n",
       "      <th></th>\n",
       "      <th>vehiclesearchedindicator</th>\n",
       "      <th>contrabandindicator</th>\n",
       "      <th>department_name</th>\n",
       "      <th>interventiondatetime</th>\n",
       "      <th>interventionlocationname</th>\n",
       "      <th>interventionreasoncode</th>\n",
       "      <th>reportingofficeridentificationid</th>\n",
       "      <th>residentindicator</th>\n",
       "      <th>searchauthorizationcode</th>\n",
       "      <th>statutereason</th>\n",
       "      <th>subjectage</th>\n",
       "      <th>subjectethnicitycode</th>\n",
       "      <th>subjectracecode</th>\n",
       "      <th>subjectsexcode</th>\n",
       "      <th>townresidentindicator</th>\n",
       "    </tr>\n",
       "  </thead>\n",
       "  <tbody>\n",
       "    <tr>\n",
       "      <th>0</th>\n",
       "      <td>False</td>\n",
       "      <td>False</td>\n",
       "      <td>New Haven</td>\n",
       "      <td>10/01/2013 12:00:00 AM</td>\n",
       "      <td>NEW HAVEN</td>\n",
       "      <td>V</td>\n",
       "      <td>262</td>\n",
       "      <td>True</td>\n",
       "      <td>N</td>\n",
       "      <td>Stop Sign</td>\n",
       "      <td>31.0</td>\n",
       "      <td>H</td>\n",
       "      <td>W</td>\n",
       "      <td>M</td>\n",
       "      <td>True</td>\n",
       "    </tr>\n",
       "    <tr>\n",
       "      <th>1</th>\n",
       "      <td>False</td>\n",
       "      <td>False</td>\n",
       "      <td>State Police</td>\n",
       "      <td>10/01/2013 12:00:00 AM</td>\n",
       "      <td>WILLINGTON</td>\n",
       "      <td>V</td>\n",
       "      <td>1000002715</td>\n",
       "      <td>False</td>\n",
       "      <td>N</td>\n",
       "      <td>Other</td>\n",
       "      <td>29.0</td>\n",
       "      <td>M</td>\n",
       "      <td>W</td>\n",
       "      <td>M</td>\n",
       "      <td>False</td>\n",
       "    </tr>\n",
       "    <tr>\n",
       "      <th>2</th>\n",
       "      <td>False</td>\n",
       "      <td>False</td>\n",
       "      <td>Plymouth</td>\n",
       "      <td>10/01/2013 12:00:00 AM</td>\n",
       "      <td>Terryville</td>\n",
       "      <td>V</td>\n",
       "      <td>21</td>\n",
       "      <td>True</td>\n",
       "      <td>N</td>\n",
       "      <td>Speed Related</td>\n",
       "      <td>18.0</td>\n",
       "      <td>N</td>\n",
       "      <td>W</td>\n",
       "      <td>M</td>\n",
       "      <td>True</td>\n",
       "    </tr>\n",
       "    <tr>\n",
       "      <th>3</th>\n",
       "      <td>False</td>\n",
       "      <td>False</td>\n",
       "      <td>Plymouth</td>\n",
       "      <td>10/01/2013 12:00:00 AM</td>\n",
       "      <td>Plymouth</td>\n",
       "      <td>V</td>\n",
       "      <td>D1</td>\n",
       "      <td>True</td>\n",
       "      <td>N</td>\n",
       "      <td>Speed Related</td>\n",
       "      <td>52.0</td>\n",
       "      <td>N</td>\n",
       "      <td>W</td>\n",
       "      <td>F</td>\n",
       "      <td>False</td>\n",
       "    </tr>\n",
       "    <tr>\n",
       "      <th>4</th>\n",
       "      <td>False</td>\n",
       "      <td>False</td>\n",
       "      <td>Bethel</td>\n",
       "      <td>10/01/2013 12:00:00 AM</td>\n",
       "      <td>BETHEL</td>\n",
       "      <td>V</td>\n",
       "      <td>08M</td>\n",
       "      <td>True</td>\n",
       "      <td>N</td>\n",
       "      <td>Cell Phone</td>\n",
       "      <td>34.0</td>\n",
       "      <td>N</td>\n",
       "      <td>W</td>\n",
       "      <td>M</td>\n",
       "      <td>False</td>\n",
       "    </tr>\n",
       "  </tbody>\n",
       "</table>\n",
       "</div>"
      ],
      "text/plain": [
       "   vehiclesearchedindicator  contrabandindicator department_name  \\\n",
       "0                     False                False       New Haven   \n",
       "1                     False                False    State Police   \n",
       "2                     False                False        Plymouth   \n",
       "3                     False                False        Plymouth   \n",
       "4                     False                False          Bethel   \n",
       "\n",
       "     interventiondatetime interventionlocationname interventionreasoncode  \\\n",
       "0  10/01/2013 12:00:00 AM                NEW HAVEN                      V   \n",
       "1  10/01/2013 12:00:00 AM               WILLINGTON                      V   \n",
       "2  10/01/2013 12:00:00 AM               Terryville                      V   \n",
       "3  10/01/2013 12:00:00 AM                 Plymouth                      V   \n",
       "4  10/01/2013 12:00:00 AM                   BETHEL                      V   \n",
       "\n",
       "  reportingofficeridentificationid  residentindicator searchauthorizationcode  \\\n",
       "0                              262               True                       N   \n",
       "1                       1000002715              False                       N   \n",
       "2                               21               True                       N   \n",
       "3                               D1               True                       N   \n",
       "4                              08M               True                       N   \n",
       "\n",
       "   statutereason  subjectage subjectethnicitycode subjectracecode  \\\n",
       "0      Stop Sign        31.0                    H               W   \n",
       "1          Other        29.0                    M               W   \n",
       "2  Speed Related        18.0                    N               W   \n",
       "3  Speed Related        52.0                    N               W   \n",
       "4     Cell Phone        34.0                    N               W   \n",
       "\n",
       "  subjectsexcode  townresidentindicator  \n",
       "0              M                   True  \n",
       "1              M                  False  \n",
       "2              M                   True  \n",
       "3              F                  False  \n",
       "4              M                  False  "
      ]
     },
     "execution_count": 4,
     "metadata": {},
     "output_type": "execute_result"
    }
   ],
   "source": [
    "data = read_data()\n",
    "data.head()"
   ]
  },
  {
   "cell_type": "markdown",
   "metadata": {},
   "source": [
    "## 1.1 - Creating Dataset Profile Before Feature Engineering & Data Cleaning "
   ]
  },
  {
   "cell_type": "code",
   "execution_count": 5,
   "metadata": {},
   "outputs": [],
   "source": [
    "# Generates a html with the characterization of all variables\n",
    "profile = pandas_profiling.ProfileReport(data)\n",
    "profile.to_file(\"data/data_train_profile_before_feature_engineering.html\")"
   ]
  },
  {
   "cell_type": "markdown",
   "metadata": {},
   "source": [
    "## 1.2 - Dataset Overview\n",
    "\n",
    "### 1.2.1 - Dataset info\n",
    "\n",
    "* `Number of variables`\t15\n",
    "* `Number of observations`\t2473643\n",
    "* `Total Missing (%)`\t0.0%\n",
    "* `Total size in memory`\t217.0 MiB\n",
    "* `Average record size in memory`\t92.0 B"
   ]
  },
  {
   "cell_type": "markdown",
   "metadata": {},
   "source": [
    "### 1.2.2 - Warnings\n",
    "\n",
    "* `Department Name has a high cardinality:` 122 distinct values Warning\n",
    "* `InterventionDateTime has a high cardinality:` 1450465 distinct values Warning\n",
    "* `InterventionLocationName has a high cardinality:` 2505 distinct values Warning\n",
    "* `ReportingOfficerIdentificationID has a high cardinality:` 8594 distinct values Warning\n",
    "\n",
    "\n",
    "`Dataset has 204756 duplicate rows Warning`"
   ]
  },
  {
   "cell_type": "code",
   "execution_count": 5,
   "metadata": {},
   "outputs": [],
   "source": [
    "def dropping_variables(df) -> pd.DataFrame:\n",
    "    \"\"\" This function returns a dataframe. Each that has a higher amount than 60% of missing values\n",
    "    is going to be dropped\n",
    "    \"\"\"\n",
    "    data = df.copy()\n",
    "    \n",
    "    variables_to_drop = []\n",
    "    \n",
    "    for col in data.columns:\n",
    "    \n",
    "        null_count = data[col].isnull().sum()\n",
    "        \n",
    "        if null_count > 0.6*len(data):\n",
    "            variables_to_drop.append(col)\n",
    "            \n",
    "    if variables_to_drop == []:\n",
    "        return data\n",
    "    else:\n",
    "        return data.drop([variables_to_drop],axis=1)   "
   ]
  },
  {
   "cell_type": "code",
   "execution_count": 6,
   "metadata": {},
   "outputs": [],
   "source": [
    "data = dropping_variables(data)"
   ]
  },
  {
   "cell_type": "markdown",
   "metadata": {},
   "source": [
    "### Generic Functions"
   ]
  },
  {
   "cell_type": "code",
   "execution_count": 7,
   "metadata": {},
   "outputs": [],
   "source": [
    "def replacing_missing_values(df) -> pd.DataFrame:\n",
    "    \"\"\"\n",
    "    \"\"\"\n",
    "    data = df.copy()\n",
    "    \n",
    "    cols_with_missing_values = []\n",
    "    col_names = data.columns.tolist()\n",
    "    \n",
    "    for col in col_names:\n",
    "        if data[col].isnull().sum() == 0:\n",
    "            pass\n",
    "        else:\n",
    "            cols_with_missing_values.append(col)\n",
    "            \n",
    "    for col in cols_with_missing_values:\n",
    "        if data[col].dtype.name == 'object':\n",
    "            data[col] = data[col].fillna(data[col].mode()[0])\n",
    "        elif data[col].dtype.name == bool:\n",
    "            data[col] = data[col].fillna(data[col].mode()[0])\n",
    "        else:\n",
    "            data[col] = data[col].fillna(data[col].median())\n",
    "            \n",
    "    return data"
   ]
  },
  {
   "cell_type": "code",
   "execution_count": 8,
   "metadata": {},
   "outputs": [],
   "source": [
    "def lower_strip_case_dtype_object(df) -> pd.DataFrame:\n",
    "    \"\"\" Returns a DataFrame in which all the object type variables have been converted to lower case \n",
    "    and the whitespaces on the edges have been removed.\n",
    "    \n",
    "    Args:\n",
    "        df(pd.DataFrame): Original DataFrame \n",
    "        \n",
    "    Returns:\n",
    "        data(pd.DataFrame): Lower and Strip case DataFrame\n",
    "    \"\"\"\n",
    "    data = df.copy()\n",
    "    \n",
    "    object_data = data.select_dtypes(include='object')\n",
    "    object_data_columns = object_data.columns\n",
    "    \n",
    "    for col in object_data_columns:\n",
    "        data[col] = data[col].str.lower().str.strip()\n",
    "    \n",
    "    return data"
   ]
  },
  {
   "cell_type": "code",
   "execution_count": 9,
   "metadata": {},
   "outputs": [],
   "source": [
    "data = lower_strip_case_dtype_object(data)"
   ]
  },
  {
   "cell_type": "markdown",
   "metadata": {},
   "source": [
    "### 1.2.3 - Types of Variables\n",
    "\n",
    "Variables types\n",
    "\n",
    "* `Numeric`\t1\n",
    "* `Categorical`\t10\n",
    "* `Boolean`\t4\n",
    "* `Date`\t0\n",
    "* `Text` (Unique)\t0\n",
    "* `Rejected`\t0\n",
    "* `Unsupported`\t0"
   ]
  },
  {
   "cell_type": "markdown",
   "metadata": {},
   "source": [
    "### 1.2.3.1 - Target Variable\n",
    "\n",
    "![Target Variable](assets\\target_variable_before_feature_engineering.png)\n",
    "\n",
    "* The missing values in the target variable will be considered to be **False**. Therefore we have an extremely unbalanced dataset. Thus I will have to resort to techniques such as **UnderSampling** or **OverSampling**."
   ]
  },
  {
   "cell_type": "code",
   "execution_count": 13,
   "metadata": {},
   "outputs": [
    {
     "name": "stdout",
     "output_type": "stream",
     "text": [
      "true values:  1.15\n",
      "False:  98.85\n"
     ]
    }
   ],
   "source": [
    "# percentage of true values\n",
    "percentage_of_true_contraband = round(((data['contrabandindicator']==True).sum()/len(data))*100,2)\n",
    "print('true values: ',percentage_of_true_contraband)\n",
    "# percentage of False values\n",
    "print('False: ', 100-percentage_of_true_contraband)"
   ]
  },
  {
   "cell_type": "markdown",
   "metadata": {},
   "source": [
    "### 1.2.3.2 - Department_Name \n",
    "\n",
    "* `Department Name has a high cardinality:` 122 distinct values Warning\n",
    "\n",
    "* This dataset represent the police departments of the state of connecticut `Connecticut`\n",
    "\n",
    "![Target Variable](assets\\department_name_before_feature_engineering.png)"
   ]
  },
  {
   "cell_type": "markdown",
   "metadata": {},
   "source": [
    "#### State and Local Law Enforcement Agencies\n",
    "\n",
    "* `State Police`\n",
    "* **State Police / Highway Patrol** – State police often perform police duties to include highway patrol and statewide investigations. Some states have only highway patrol with investigative functions covered by a separate entity such as a state bureau of investigation. State police assist local police with investigations and emergencies that extend beyond the resources and jurisdictional boundaries of the local agency.\n",
    "\n",
    "\n",
    "* `Local Police & Deputy Sheriffs`\n",
    "* **Local Police** includes municipal, county, tribal, and regional police that derive authority from the local governing body that created it. The primary purpose is to uphold the laws of the jurisdiction, provide patrol, and investigate local crimes.\n",
    "\n",
    "* **Deputy Sheriffs** – Generally sheriff’s offices are granted authority by the state to enforce state law at the local county level. Deputies commonly run the local jail, serve warrants and court summons, and respond to calls for service in areas outside local police jurisdictions.\n",
    "Law Enforcement Accr\n",
    "\n",
    "\n",
    "* `CSP troops`\n",
    "* The **Connecticut State Police (CSP)** is a division of the Connecticut Department of Emergency Services and Public Protection responsible for traffic regulation and law enforcement across the state of Connecticut, especially in areas not served by (or served by smaller) local police departments. The CSP currently has approximately 1,031 troopers, and is headquartered in Middletown, Connecticut. It is responsible for protecting the Governor of Connecticut, Lieutenant Governor of Connecticut, and their families.\n",
    "\n",
    "\n",
    "* `Special Jurisdiction Police`\n",
    "* **Special Jurisdiction Police** – Officers for special jurisdictions provide police services for defined entities or areas within another jurisdiction. These include parks, schools, transportation assets (e.g., airports, subways), hospitals, housing authorities, and government buildings. Special jurisdiction police are generally full-service departments, offering the same services as local police."
   ]
  },
  {
   "cell_type": "code",
   "execution_count": 12,
   "metadata": {},
   "outputs": [],
   "source": [
    "# In connecticut there are:\n",
    "## 95 Distinct Police Departments\n",
    "## 15 CST troops\n",
    "## 11 Special Jurisdiction Police\n",
    "\n",
    "def cleaning_department_name(df) -> pd.DataFrame:\n",
    "    \"\"\" Returns a DataFrame with the variable department name corrected\n",
    "    \n",
    "    Args:\n",
    "        df(pd.DataFrame): represents a dataframe where the variable department_name\n",
    "                          as not been fixed yet\n",
    "    Returns:\n",
    "        data(pd.DataFrame): DataFrame with the variable department_name corrected\n",
    "    \"\"\"\n",
    "    data = df.copy()\n",
    "    \n",
    "    # Converts all strings to lower case\n",
    "    data['department_name'] = data['department_name'].str.lower()\n",
    "    \n",
    "    # Identifies the specific strings that have 3 or more words. Those were the only cases in which it \n",
    "    # was identified values with problems\n",
    "    indexes_to_change = data[data['department_name'].apply(lambda x: len(x.split())) >= 3].index\n",
    "    \n",
    "    data.loc[indexes_to_change,'department_name'] = data.loc[indexes_to_change,'department_name']\\\n",
    "    .apply(lambda x: x.replace('police','').strip())\n",
    "    \n",
    "    data['department_name'] = data['department_name'].str.strip() \n",
    "    \n",
    "    return data"
   ]
  },
  {
   "cell_type": "code",
   "execution_count": 13,
   "metadata": {},
   "outputs": [],
   "source": [
    "data = cleaning_department_name(data)"
   ]
  },
  {
   "cell_type": "markdown",
   "metadata": {},
   "source": [
    "### 1.2.3.3 - InterventionLocationName\n",
    "\n",
    "![Target Variable](assets\\intervention_location_name_before_feature_engineering.png)\n",
    "\n",
    "* I will want to understand which variable add more value to the performance of the model, department_name or intervention locationname. Right now I'm thinking that one is basically the other, but in some IterventionLocationName is more specific in certain observations"
   ]
  },
  {
   "cell_type": "markdown",
   "metadata": {},
   "source": [
    "#### Preparing a list to validate the locations of intervention"
   ]
  },
  {
   "cell_type": "code",
   "execution_count": 14,
   "metadata": {},
   "outputs": [],
   "source": [
    "def interventionlocation_validation_list():\n",
    "    \"\"\"\n",
    "    \"\"\"\n",
    "# Towns and Cities in Connecticut\n",
    "    towns_cities_url = 'https://portal.ct.gov/Government/Cities-and-Towns'\n",
    "    \n",
    "    response_1 = requests.get(towns_cities_url)\n",
    "    \n",
    "    \n",
    "    # Printing short output, if you want to see everything, delete the friendly_print function call\n",
    "    soup_1 = BeautifulSoup(response_1.content, 'html.parser')\n",
    "    \n",
    "    towns_and_cities_info = str(soup_1.findAll('a','title', class_=False))\n",
    "    \n",
    "    pattern_1 = r'\"\\b[A-z][a-z]*\\b \\b[A-z][a-z]*\\b\"|\"\\b[A-z][a-z]*\\b\"'\n",
    "    \n",
    "    connecticut_towns_and_cities =\\\n",
    "    [n.strip('\"') for n in re.findall(pattern_1, towns_and_cities_info)\\\n",
    "     if (n != '\"noopener noreferrer\"')& (n != '\"_blank\"')&(len(n)>3)][1:-1]\n",
    "    \n",
    "#census-designated places in Connecticut\n",
    "    cdp_connecticut_url = 'https://en.wikipedia.org/wiki/List_of_census-designated_places_in_Connecticut'\n",
    "    \n",
    "    response_2 = requests.get(cdp_connecticut_url)\n",
    "    \n",
    "    # Printing short output, if you want to see everything, delete the friendly_print function call\n",
    "    soup_2 = BeautifulSoup(response_2.content, 'html.parser')\n",
    "    \n",
    "    cdp_connecticut = str(soup_2.findAll('a','title', class_=False))\n",
    "    \n",
    "    pattern_2 = r'[title]{5}=(.*?,)'\n",
    "    \n",
    "    removing_special_characters = [re.sub('[\",]', '', n) for n in re.findall(pattern_2, cdp_connecticut)[3:-85]]\n",
    "\n",
    "    removing_county = [re.sub('[County]{6}', '', n) for n in removing_special_characters]\n",
    "\n",
    "    removing_cdp_village =  np.unique([n.split('(')[0].strip() for n in removing_county]).tolist()\n",
    "\n",
    "# Villages in connecticut \n",
    "\n",
    "    villages_connecticut_url = 'https://en.wikipedia.org/wiki/Category:Villages_in_Connecticut'\n",
    "\n",
    "    response_3 = requests.get(villages_connecticut_url)\n",
    "\n",
    "    # Printing short output, if you want to see everything, delete the friendly_print function call\n",
    "    soup_3= BeautifulSoup(response_3.content, 'html.parser')\n",
    "\n",
    "    villages_connecticut = str(soup_3.findAll('a','title', class_=False))\n",
    "    \n",
    "    pattern_2 = r'[title]{5}=(.*?,)'\n",
    "    \n",
    "    villages_list = [re.sub('[\",]', '', n) for n in re.findall(pattern_2, cdp_connecticut)[5:-37]]\n",
    "    \n",
    "    location_1_word = []\n",
    "    location_2_word = []\n",
    "    location_3_word = []\n",
    "    locations_more_than_3 = []\n",
    "    \n",
    "    for n in villages_list:\n",
    "        if len(n.split()) == 1:\n",
    "            location_1_word.append(n)\n",
    "        elif len(n.split()) == 2:\n",
    "            location_2_word.append(n)\n",
    "        elif len(n.split()) == 3:\n",
    "            location_3_word.append(n)\n",
    "        elif len(n.split()) > 3:\n",
    "            locations_more_than_3.append(n)\n",
    "    \n",
    "    location_2_word = [re.sub('[(CDP)]{5}', '', n) for n in location_2_word]\n",
    "    \n",
    "    locations_more_than_3_with_district = [x.split('District')[0]+'District'\\\n",
    "                                       for x in locations_more_than_3 if re.search('District', x)] \n",
    "    locations_more_than_3_no_district = [x.split('District')[0]+'District'\\\n",
    "                                       for x in locations_more_than_3 if not re.search('District', x)]\n",
    "    locations_more_than_3_clean = \\\n",
    "    locations_more_than_3_with_district + [locations_more_than_3_no_district[0].split('>')[0]] +\\\n",
    "    [' '.join(locations_more_than_3_no_district[1].split()[:2])]\n",
    "    \n",
    "    villages_final_list = location_1_word+location_2_word+location_3_word+locations_more_than_3_clean\n",
    "    \n",
    "# Final list Output\n",
    "\n",
    "    final_list = np.unique(connecticut_towns_and_cities + removing_cdp_village + villages_final_list).tolist()\n",
    "    \n",
    "    final_list = [n.lower() for n in final_list]\n",
    "    \n",
    "    return final_list"
   ]
  },
  {
   "cell_type": "code",
   "execution_count": 15,
   "metadata": {},
   "outputs": [],
   "source": [
    "connecticut_towns_cities_cdp_villages = interventionlocation_validation_list()"
   ]
  },
  {
   "cell_type": "code",
   "execution_count": 16,
   "metadata": {},
   "outputs": [],
   "source": [
    "# data['interventionlocationname'] = data['interventionlocationname'].replace('  ',' ').apply(lambda x: str(x).strip().lower())"
   ]
  },
  {
   "cell_type": "markdown",
   "metadata": {},
   "source": [
    "#### Locations Validated"
   ]
  },
  {
   "cell_type": "code",
   "execution_count": 17,
   "metadata": {},
   "outputs": [
    {
     "data": {
      "text/plain": [
       "194"
      ]
     },
     "execution_count": 17,
     "metadata": {},
     "output_type": "execute_result"
    }
   ],
   "source": [
    "len(data[data['interventionlocationname'].isin(connecticut_towns_cities_cdp_villages)]['interventionlocationname'].unique())"
   ]
  },
  {
   "cell_type": "code",
   "execution_count": 18,
   "metadata": {},
   "outputs": [
    {
     "data": {
      "text/plain": [
       "98.83"
      ]
     },
     "execution_count": 18,
     "metadata": {},
     "output_type": "execute_result"
    }
   ],
   "source": [
    "round((len(data[data['interventionlocationname'].isin(connecticut_towns_cities_cdp_villages)]['interventionlocationname'])/(len(data)))*100,2)"
   ]
  },
  {
   "cell_type": "markdown",
   "metadata": {},
   "source": [
    "#### Locations Not Validated\n",
    "\n",
    "- They represent only 1.2% of the entire sample.\n",
    "\n",
    "- For the locations that were not validated, it will be assigned the value `other`"
   ]
  },
  {
   "cell_type": "code",
   "execution_count": 19,
   "metadata": {},
   "outputs": [
    {
     "data": {
      "text/plain": [
       "1.17"
      ]
     },
     "execution_count": 19,
     "metadata": {},
     "output_type": "execute_result"
    }
   ],
   "source": [
    "round(((len(data)-len(data[data['interventionlocationname'].isin(connecticut_towns_cities_cdp_villages)]['interventionlocationname']))/len(data))*100,2)"
   ]
  },
  {
   "cell_type": "code",
   "execution_count": 20,
   "metadata": {},
   "outputs": [],
   "source": [
    "def cleaning_interventionlocation(df) -> pd.DataFrame:\n",
    "    \"\"\"\n",
    "    \"\"\"\n",
    "    \n",
    "    data = df.copy()\n",
    "    \n",
    "    data['interventionlocationname'] = \\\n",
    "    data['interventionlocationname'].replace('  ',' ').apply(lambda x: str(x).strip().lower())\n",
    "    \n",
    "    index_to_change = data[~data['interventionlocationname'].isin(connecticut_towns_cities_cdp_villages)].index.tolist()\n",
    "    \n",
    "    data.loc[index_to_change,'interventionlocationname'] = 'other'\n",
    "    \n",
    "    return data"
   ]
  },
  {
   "cell_type": "code",
   "execution_count": 21,
   "metadata": {},
   "outputs": [],
   "source": [
    "data = cleaning_interventionlocation(data)"
   ]
  },
  {
   "cell_type": "markdown",
   "metadata": {},
   "source": [
    "- Reduced from 2505 distinct intervention locations to 195. One specific category is \"Other\", and it holds more than 1500 distinct categories."
   ]
  },
  {
   "cell_type": "markdown",
   "metadata": {},
   "source": [
    "### 1.2.3.4 - InterventionDatetime\n",
    "\n",
    "![Target Variable](assets\\intervention_datetime_before_feature_engineering.png)\n",
    "\n",
    "* I have to convert this variable to datetime\n",
    "\n",
    "\n",
    "* I have to sort the current dataframe from the oldest date to the most recent one."
   ]
  },
  {
   "cell_type": "code",
   "execution_count": 22,
   "metadata": {},
   "outputs": [],
   "source": [
    "def convert_to_datetime(df,n=100000) -> pd.DataFrame:  \n",
    "    \"\"\"Returns a sorted dataframe according to the dates in column interventiondatetime\n",
    "    \n",
    "    Args:\n",
    "        df(pd.DataFrame): Original DataFrame, it's not a transformation in a chain.\n",
    "        \n",
    "        n(int): represents the number of observations that are taken into consideration when\n",
    "                trying to detect the format of the datetime string\n",
    "        \n",
    "    Returns:\n",
    "        data(pd.DataFrame): Sorted Dataframe according to the converted (to_datetime)\n",
    "                            interventiondatetime variable\n",
    "    \"\"\"\n",
    "    data = df.copy()\n",
    "    \n",
    "    # The objective of this list of different formats is an attempt to try to prevent the model \n",
    "    # when cleaning the dataset for which it will make the requested predictions.\n",
    "    date_formats = [\"%Y-%m-%d %H:%M:%S %p\", \"%d-%m-%Y %H:%M:%S %p\", \"%m-%d-%Y %H:%M:%S %p\",\n",
    "                    \"%Y/%m/%d %H:%M:%S %p\", \"%d/%m/%Y %H:%M:%S %p\", \"%m/%d/%Y %H:%M:%S %p\", \n",
    "                    \"%Y.%m.%d %H:%M:%S %p\", \"%d.%m.%Y %H:%M:%S %p\", \"%m.%d.%Y %H:%M:%S %p\"]\n",
    "    \n",
    "    # This function return a list of format(s) that can be used to transform the data\n",
    "    # faster to date format. It is expeceted to return a single value in this list,\n",
    "    # but it can it has more than 1, the output of the overall function will raise an \n",
    "    # error\n",
    "    \n",
    "    def string_to_date(df):\n",
    "        match = []\n",
    "        for fmt in date_formats:\n",
    "            try:\n",
    "                pd.to_datetime(df,format = fmt)\n",
    "            except ValueError as e:\n",
    "                continue\n",
    "            match.append(fmt)\n",
    "        return match\n",
    "    \n",
    "    correct_format = string_to_date(data['interventiondatetime'][:n])\n",
    "    \n",
    "    # Validation test\n",
    "    if len(correct_format) != 1:\n",
    "        raise ValueError('Argument n has to be bigger')\n",
    "    else:\n",
    "    # I have inserted the format of time, to me more efficient in terms of time. However, I have to ensure \n",
    "    # that this is the format for the unseen data \n",
    "        data['interventiondatetime'] = pd.to_datetime(data['interventiondatetime'],format = correct_format[0])\n",
    "    \n",
    "        data = data.sort_values(by=['interventiondatetime'])\n",
    "    \n",
    "        return data"
   ]
  },
  {
   "cell_type": "code",
   "execution_count": 23,
   "metadata": {},
   "outputs": [],
   "source": [
    "data = convert_to_datetime(data)"
   ]
  },
  {
   "cell_type": "markdown",
   "metadata": {},
   "source": [
    "### 1.2.3.5 - InterventionReasonCode\n",
    "\n",
    "![Target Variable](assets\\intervention_reason_code.png)\n",
    "\n",
    "- Somthing is wrong in this variable. It's only supposed to have 3 unique categories:\n",
    "    - `\"Investigation:` - I\n",
    "    - `Violation:` - V\n",
    "    - `Equipment:` - E"
   ]
  },
  {
   "cell_type": "code",
   "execution_count": 24,
   "metadata": {},
   "outputs": [],
   "source": [
    "def cleaning_interventionreasoncode(df) -> pd.DataFrame:\n",
    "    \"\"\" This function has the purpose of ensuring that only [e,v,i] are represented in this variable,\n",
    "        the remaining ones will assumed to be null values\n",
    "        \n",
    "    Args:\n",
    "        df(pd.DataFrame): original data\n",
    "        \n",
    "    Return:\n",
    "        data(pd.DataFrame): is the same as the dataframe inserted as an argument, the variable interventionreasoncode\n",
    "        has been cleaned\n",
    "    \"\"\"\n",
    "    \n",
    "    data = df.copy()\n",
    "    \n",
    "    correct_values = ['v','e','i']\n",
    "    \n",
    "    data['interventionreasoncode'] = data['interventionreasoncode'].str.lower()\n",
    "    \n",
    "    data[~data['interventionreasoncode'].isin(correct_values)] = np.NaN\n",
    "    \n",
    "    return data   "
   ]
  },
  {
   "cell_type": "code",
   "execution_count": 25,
   "metadata": {},
   "outputs": [
    {
     "data": {
      "text/plain": [
       "5"
      ]
     },
     "execution_count": 25,
     "metadata": {},
     "output_type": "execute_result"
    }
   ],
   "source": [
    "# The values which the were being assumed as distinct categories were, 'NaN' and 'no'\n",
    "cleaning_interventionreasoncode(data)['interventionreasoncode'].isnull().sum()"
   ]
  },
  {
   "cell_type": "code",
   "execution_count": 26,
   "metadata": {},
   "outputs": [],
   "source": [
    "data = cleaning_interventionreasoncode(data)"
   ]
  },
  {
   "cell_type": "markdown",
   "metadata": {},
   "source": [
    "### 1.2.3.6 - ReportingOfficerID \n",
    "\n",
    "![reporting_officer_id_before_feature_engineering](assets\\reporting_officer_id_before_feature_engineering.png)"
   ]
  },
  {
   "cell_type": "markdown",
   "metadata": {},
   "source": [
    "- There no codes with no more than 12 characters"
   ]
  },
  {
   "cell_type": "code",
   "execution_count": 27,
   "metadata": {},
   "outputs": [
    {
     "data": {
      "text/plain": [
       "['1899-12-31t11:12:00',\n",
       " 'prisoner transport',\n",
       " 'west holdover',\n",
       " 'south holdover',\n",
       " 'east holdover',\n",
       " 'north holdover']"
      ]
     },
     "execution_count": 27,
     "metadata": {},
     "output_type": "execute_result"
    }
   ],
   "source": [
    "data[data['reportingofficeridentificationid'].apply(lambda x: len(str(x))) >= 13]['reportingofficeridentificationid'].unique().tolist()"
   ]
  },
  {
   "cell_type": "code",
   "execution_count": 28,
   "metadata": {},
   "outputs": [],
   "source": [
    "def replace_wrong_reporting_officer_id(df):\n",
    "    \"\"\" This function as the purpose of cleaning the variable reporting officer\n",
    "    \n",
    "    Args:\n",
    "        df(pd.DataFrame): original data\n",
    "        \n",
    "    Return:\n",
    "        data(pd.DataFrame): is the same as the dataframe inserted as an argument, the variable reportingofficerid\n",
    "        has been cleaned\n",
    "    \"\"\"\n",
    "    data = df.copy()\n",
    "    \n",
    "    index_to_change = data[data['reportingofficeridentificationid']\\\n",
    "         .apply(lambda x: len(str(x))) >= 13]['reportingofficeridentificationid'].index.tolist()\n",
    "    \n",
    "    index_to_change = index_to_change + data[data['reportingofficeridentificationid']\\\n",
    "                                             .apply(lambda x: type(x)==str) == False].index.tolist()\n",
    "    \n",
    "    data.loc[index_to_change,'reportingofficeridentificationid'] = np.NaN\n",
    "    \n",
    "    return data"
   ]
  },
  {
   "cell_type": "code",
   "execution_count": 29,
   "metadata": {},
   "outputs": [],
   "source": [
    "data = replace_wrong_reporting_officer_id(data)"
   ]
  },
  {
   "cell_type": "markdown",
   "metadata": {},
   "source": [
    "- **I do not what do exactly with this variable**."
   ]
  },
  {
   "cell_type": "markdown",
   "metadata": {},
   "source": [
    "### 1.2.3.7 - ResidentIndicator\n",
    "\n",
    "![resident_id_before_feature_engineering](assets\\resident_id_before_feature_engineering.png)"
   ]
  },
  {
   "cell_type": "code",
   "execution_count": 25,
   "metadata": {},
   "outputs": [
    {
     "data": {
      "text/plain": [
       "array([ True, False])"
      ]
     },
     "execution_count": 25,
     "metadata": {},
     "output_type": "execute_result"
    }
   ],
   "source": [
    "data['residentindicator'].unique()"
   ]
  },
  {
   "cell_type": "markdown",
   "metadata": {},
   "source": [
    "- There is nothing wrong with this variable"
   ]
  },
  {
   "cell_type": "markdown",
   "metadata": {},
   "source": [
    "### 1.2.3.8 - SearchAuthorizationCode\n",
    "\n",
    "![search_authorization_code_feature_engineering](assets\\search_authorization_code_feature_engineering.png)"
   ]
  },
  {
   "cell_type": "markdown",
   "metadata": {},
   "source": [
    "* `N-Not Applicable`: Authorization code has not been provided\n",
    "\n",
    "\n",
    "* C-`Consent` \n",
    "\n",
    "\n",
    "* I-`Inventory` \n",
    "\n",
    "\n",
    "* O-`Other`:Probable Cause,  Reasonable Suspicion,  Plain View Contraband,\n",
    "    Incident to Arrest,  Drug Dog Alert, Exigent Circumstances\""
   ]
  },
  {
   "cell_type": "code",
   "execution_count": 37,
   "metadata": {},
   "outputs": [
    {
     "data": {
      "text/plain": [
       "array(['n', 'o', 'i', 'c', nan], dtype=object)"
      ]
     },
     "execution_count": 37,
     "metadata": {},
     "output_type": "execute_result"
    }
   ],
   "source": [
    "data['searchauthorizationcode'].unique()"
   ]
  },
  {
   "cell_type": "code",
   "execution_count": 40,
   "metadata": {},
   "outputs": [
    {
     "data": {
      "text/plain": [
       "10"
      ]
     },
     "execution_count": 40,
     "metadata": {},
     "output_type": "execute_result"
    }
   ],
   "source": [
    "(~data['searchauthorizationcode'].isin(['n','o','i','c'])).sum()"
   ]
  },
  {
   "cell_type": "markdown",
   "metadata": {},
   "source": [
    "### 1.2.3.9 - StatusReason\n",
    "\n",
    "![status_reason_before_feature_engineering](assets\\status_reason_before_feature_engineering.png)"
   ]
  },
  {
   "cell_type": "code",
   "execution_count": 31,
   "metadata": {},
   "outputs": [
    {
     "data": {
      "text/plain": [
       "array(['speed related', 'window tint', 'display of plates', 'other',\n",
       "       'defective lights', 'cell phone', 'traffic control signal',\n",
       "       'equipment violation', 'moving violation', 'stop sign', 'seatbelt',\n",
       "       'registration', 'suspended license', nan, 'other/error',\n",
       "       'stc violation', 'administrative offense', 'unlicensed operation'],\n",
       "      dtype=object)"
      ]
     },
     "execution_count": 31,
     "metadata": {},
     "output_type": "execute_result"
    }
   ],
   "source": [
    "data['statutereason'].unique()\n",
    "# I'm going to assume other/error to be only error"
   ]
  },
  {
   "cell_type": "code",
   "execution_count": 32,
   "metadata": {},
   "outputs": [],
   "source": [
    "def cleaning_status(df):\n",
    "    \"\"\"\n",
    "    \"\"\"\n",
    "    data = df.copy()\n",
    "    \n",
    "    data[data['statutereason']=='other/error'] = 'error'\n",
    "    \n",
    "    return data"
   ]
  },
  {
   "cell_type": "code",
   "execution_count": 33,
   "metadata": {},
   "outputs": [],
   "source": [
    "data = cleaning_status(data)"
   ]
  },
  {
   "cell_type": "code",
   "execution_count": 34,
   "metadata": {},
   "outputs": [
    {
     "data": {
      "text/plain": [
       "512"
      ]
     },
     "execution_count": 34,
     "metadata": {},
     "output_type": "execute_result"
    }
   ],
   "source": [
    "data['statutereason'].isnull().sum()"
   ]
  },
  {
   "cell_type": "markdown",
   "metadata": {},
   "source": [
    "- The only problem of this variable appears to be with null values"
   ]
  },
  {
   "cell_type": "markdown",
   "metadata": {},
   "source": [
    "### 1.2.3.10 - SubjectAge\n",
    "\n",
    "![subject_age_before_feature_engineering](assets\\subject_age_before_feature_engineering.png)"
   ]
  },
  {
   "cell_type": "markdown",
   "metadata": {},
   "source": [
    "* In the state of Conneticut is possible to start driving at the age of 16 with a Learner's Permit or a Restricted Permit. The full licence can only be obtained at the age of 18.\n",
    "\n",
    "\n",
    "* License Renewal Rules for Older Drivers \n",
    "\n",
    "\n",
    "    * Drivers age 65 and older must renew in person every two years; those younger need to renew every six years. Individuals with a major medical condition may submit a request for license renewal by mail; they must first contact the DMV at 860-263-5148 and ask for a review of their situation.\n",
    "    \n",
    "        *  common restrictions include:\n",
    "            *  no nighttime driving\n",
    "            *  no freeway driving\n",
    "            *  driving only vehicles with automatic transmission\n",
    "            *  driving a vehicle with an additional external mirrors\n",
    "            *  driver must wear hearing aid, and special controls or equipment in the vehicle."
   ]
  },
  {
   "cell_type": "code",
   "execution_count": 76,
   "metadata": {},
   "outputs": [
    {
     "data": {
      "text/plain": [
       "(array([444.,  60., 128.,  32.,   6.,  34.,  40.,  33.,  29., 371.]),\n",
       " array([ 1. ,  2.4,  3.8,  5.2,  6.6,  8. ,  9.4, 10.8, 12.2, 13.6, 15. ]),\n",
       " <a list of 10 Patch objects>)"
      ]
     },
     "execution_count": 76,
     "metadata": {},
     "output_type": "execute_result"
    },
    {
     "data": {
      "image/png": "[encoded data removed]",
      "text/plain": [
       "<Figure size 800x550 with 1 Axes>"
      ]
     },
     "metadata": {},
     "output_type": "display_data"
    }
   ],
   "source": [
    "plt.hist(data[data['subjectage'] <= 15]['subjectage'])"
   ]
  },
  {
   "cell_type": "code",
   "execution_count": 42,
   "metadata": {},
   "outputs": [
    {
     "data": {
      "text/plain": [
       "806"
      ]
     },
     "execution_count": 42,
     "metadata": {},
     "output_type": "execute_result"
    }
   ],
   "source": [
    "(data['subjectage']<14).sum()"
   ]
  },
  {
   "cell_type": "code",
   "execution_count": 41,
   "metadata": {},
   "outputs": [
    {
     "data": {
      "text/plain": [
       "0.03"
      ]
     },
     "execution_count": 41,
     "metadata": {},
     "output_type": "execute_result"
    }
   ],
   "source": [
    "round(((data['subjectage']<14).sum()/len(data))*100,2)"
   ]
  },
  {
   "cell_type": "code",
   "execution_count": 83,
   "metadata": {},
   "outputs": [],
   "source": [
    "def cleaning_subject_age(df) -> pd.DataFrame:\n",
    "    \"\"\"\n",
    "    \"\"\"\n",
    "    \n",
    "    data = df.copy()\n",
    "    \n",
    "    index_to_change = data[data['subjectage'] < 14].index.tolist()\n",
    "    \n",
    "    data.loc[index_to_change,'subjectage'] = data['subjectage'].median()\n",
    "    \n",
    "    return data"
   ]
  },
  {
   "cell_type": "code",
   "execution_count": 81,
   "metadata": {},
   "outputs": [],
   "source": [
    "data = cleaning_subject_age(data,14)\n",
    "# By applying the minimum age of 14 we are loosing 811 observations"
   ]
  },
  {
   "cell_type": "code",
   "execution_count": 82,
   "metadata": {},
   "outputs": [
    {
     "data": {
      "text/plain": [
       "(array([348292., 583215., 467336., 361864., 370873., 201083.,  99149.,\n",
       "         30327.,   9559.,   1945.]),\n",
       " array([14. , 22.5, 31. , 39.5, 48. , 56.5, 65. , 73.5, 82. , 90.5, 99. ]),\n",
       " <a list of 10 Patch objects>)"
      ]
     },
     "execution_count": 82,
     "metadata": {},
     "output_type": "execute_result"
    },
    {
     "data": {
      "image/png": "[encoded data removed]",
      "text/plain": [
       "<Figure size 800x550 with 1 Axes>"
      ]
     },
     "metadata": {},
     "output_type": "display_data"
    }
   ],
   "source": [
    "plt.hist(data['subjectage'])"
   ]
  },
  {
   "cell_type": "markdown",
   "metadata": {},
   "source": [
    "### 1.2.3.11 - Ethinicity\n",
    "\n",
    "![subject_ethinicity_code_before_feature_egineering](assets\\subject_ethinicity_code_before_feature_egineering.png)"
   ]
  },
  {
   "cell_type": "markdown",
   "metadata": {},
   "source": [
    "- For ethical reason I will try not to use this variable"
   ]
  },
  {
   "cell_type": "code",
   "execution_count": 32,
   "metadata": {},
   "outputs": [
    {
     "data": {
      "text/plain": [
       "array(['h', 'm', 'n'], dtype=object)"
      ]
     },
     "execution_count": 32,
     "metadata": {},
     "output_type": "execute_result"
    }
   ],
   "source": [
    "data['subjectethnicitycode'].unique()"
   ]
  },
  {
   "cell_type": "markdown",
   "metadata": {},
   "source": [
    "### 1.2.3.12 - RaceCode\n",
    "\n",
    "![subject_race_code_before_feature_engineering](assets\\subject_race_code_before_feature_engineering.png)\n",
    "\n",
    "\n",
    "- For ethical reason I will try not to use this variable"
   ]
  },
  {
   "cell_type": "code",
   "execution_count": 33,
   "metadata": {},
   "outputs": [
    {
     "data": {
      "text/plain": [
       "array(['w', 'b', 'a', 'i'], dtype=object)"
      ]
     },
     "execution_count": 33,
     "metadata": {},
     "output_type": "execute_result"
    }
   ],
   "source": [
    "data['subjectracecode'].unique()"
   ]
  },
  {
   "cell_type": "markdown",
   "metadata": {},
   "source": [
    "- All individuals race has been identified there are no unkown values which fall under the U category."
   ]
  },
  {
   "cell_type": "markdown",
   "metadata": {},
   "source": [
    "### 1.2.3.13 - SexCode\n",
    "\n",
    "![subject_sex_code_before_feature_egineering](assets\\subject_sex_code_before_feature_egineering.png)\n",
    "\n",
    "\n",
    "- For ethical reason I will try not to use this variable"
   ]
  },
  {
   "cell_type": "code",
   "execution_count": 26,
   "metadata": {},
   "outputs": [
    {
     "data": {
      "text/plain": [
       "array(['m', 'f'], dtype=object)"
      ]
     },
     "execution_count": 26,
     "metadata": {},
     "output_type": "execute_result"
    }
   ],
   "source": [
    "data['subjectsexcode'].unique()"
   ]
  },
  {
   "cell_type": "code",
   "execution_count": 35,
   "metadata": {},
   "outputs": [
    {
     "data": {
      "text/plain": [
       "0"
      ]
     },
     "execution_count": 35,
     "metadata": {},
     "output_type": "execute_result"
    }
   ],
   "source": [
    "data['subjectsexcode'].isnull().sum()"
   ]
  },
  {
   "cell_type": "markdown",
   "metadata": {},
   "source": [
    "### 1.2.3.14 - TownResidentIndicator\n",
    "\n",
    "![town_resident_indicator_before_feature_engineering](assets\\town_resident_indicator_before_feature_engineering.png)\n",
    "\n",
    "\n",
    "- It appears that there no exist any problems with the variable "
   ]
  },
  {
   "cell_type": "code",
   "execution_count": 27,
   "metadata": {},
   "outputs": [
    {
     "data": {
      "text/plain": [
       "array([ True, False])"
      ]
     },
     "execution_count": 27,
     "metadata": {},
     "output_type": "execute_result"
    }
   ],
   "source": [
    "data['townresidentindicator'].unique()"
   ]
  },
  {
   "cell_type": "code",
   "execution_count": 28,
   "metadata": {},
   "outputs": [
    {
     "data": {
      "text/plain": [
       "0"
      ]
     },
     "execution_count": 28,
     "metadata": {},
     "output_type": "execute_result"
    }
   ],
   "source": [
    "data['townresidentindicator'].isnull().sum()"
   ]
  },
  {
   "cell_type": "markdown",
   "metadata": {},
   "source": [
    "### 1.2.3.15 - SearchVehicleIndicator\n",
    "\n",
    "![vehicle_search_indicator_before_feature_engineering](assets\\vehicle_search_indicator_before_feature_engineering.png)\n",
    "\n",
    "- It appears that there no exist any problems with the variable "
   ]
  },
  {
   "cell_type": "code",
   "execution_count": 29,
   "metadata": {},
   "outputs": [
    {
     "data": {
      "text/plain": [
       "array([False,  True])"
      ]
     },
     "execution_count": 29,
     "metadata": {},
     "output_type": "execute_result"
    }
   ],
   "source": [
    "data['vehiclesearchedindicator'].unique()"
   ]
  },
  {
   "cell_type": "code",
   "execution_count": 30,
   "metadata": {},
   "outputs": [
    {
     "data": {
      "text/plain": [
       "0"
      ]
     },
     "execution_count": 30,
     "metadata": {},
     "output_type": "execute_result"
    }
   ],
   "source": [
    "data['vehiclesearchedindicator'].isnull().sum()"
   ]
  }
 ],
 "metadata": {
  "kernelspec": {
   "display_name": "Python 3",
   "language": "python",
   "name": "python3"
  },
  "language_info": {
   "codemirror_mode": {
    "name": "ipython",
    "version": 3
   },
   "file_extension": ".py",
   "mimetype": "text/x-python",
   "name": "python",
   "nbconvert_exporter": "python",
   "pygments_lexer": "ipython3",
   "version": "3.7.0"
  }
 },
 "nbformat": 4,
 "nbformat_minor": 2
}
