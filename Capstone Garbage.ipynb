{
 "cells": [
  {
   "cell_type": "code",
   "execution_count": 62,
   "metadata": {},
   "outputs": [],
   "source": [
    "def replacing_null_for_mode(data, df) -> pd.DataFrame:\n",
    "    \"\"\" This function returns a DataFrame, in which a certain categorical variable missing values\n",
    "    have been replaced by the variable mode\n",
    "    \n",
    "    Args:\n",
    "        data(pd.Series): The panda Series which is intended to be corrected\n",
    "        \n",
    "        df(pd.DataFrame): The DataFrame which contains the original DataFrame\n",
    "        \n",
    "    Returns:\n",
    "        df(pd.DataFrame): DataFrame with the Corrected Variable\n",
    "    \"\"\"\n",
    "    column_df = data.copy()\n",
    "    \n",
    "    column_name = column_df.name\n",
    "    \n",
    "    mode = df[column_name].mode\n",
    "    \n",
    "    index_to_change = df[df[column_name].isnull()].index.tolist()\n",
    "    \n",
    "    df.loc[index_to_change, column_name] = mode\n",
    "    \n",
    "    return df   "
   ]
  },
  {
   "cell_type": "code",
   "execution_count": 83,
   "metadata": {},
   "outputs": [],
   "source": [
    "def replacing_null_for_median(data, df) -> pd.DataFrame:\n",
    "    \"\"\" This function returns a DataFrame, in which a certain categorical variable missing values\n",
    "    have been replaced by the variable median\n",
    "    \n",
    "    Args:\n",
    "        data(pd.Series): The panda Series which is intended to be corrected\n",
    "        \n",
    "        df(pd.DataFrame): The DataFrame which contains the original DataFrame\n",
    "        \n",
    "    Returns:\n",
    "        df(pd.DataFrame): DataFrame with the Corrected Variable\n",
    "    \"\"\"    \n",
    "    column_df = data.copy()\n",
    "    \n",
    "    column_name = column_df.name\n",
    "    \n",
    "    mode = df[column_name].median\n",
    "    \n",
    "    index_to_change = df[df[column_name].isnull()].index.tolist()\n",
    "    \n",
    "    df.loc[index_to_change, column_name] = mode\n",
    "    \n",
    "    return df  "
   ]
  },
  {
   "cell_type": "code",
   "execution_count": null,
   "metadata": {},
   "outputs": [],
   "source": []
  }
 ],
 "metadata": {
  "kernelspec": {
   "display_name": "Python 3",
   "language": "python",
   "name": "python3"
  },
  "language_info": {
   "codemirror_mode": {
    "name": "ipython",
    "version": 3
   },
   "file_extension": ".py",
   "mimetype": "text/x-python",
   "name": "python",
   "nbconvert_exporter": "python",
   "pygments_lexer": "ipython3",
   "version": "3.7.0"
  }
 },
 "nbformat": 4,
 "nbformat_minor": 2
}
