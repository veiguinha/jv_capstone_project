{
 "cells": [
  {
   "cell_type": "markdown",
   "metadata": {},
   "source": [
    "# Capstone Project Baseline"
   ]
  },
  {
   "cell_type": "markdown",
   "metadata": {},
   "source": [
    "### Imports"
   ]
  },
  {
   "cell_type": "code",
   "execution_count": 1,
   "metadata": {},
   "outputs": [],
   "source": [
    "# Necessary Imports\n",
    "import pandas as pd\n",
    "import numpy as np\n",
    "import os\n",
    "\n",
    "# Data Visualization\n",
    "import matplotlib.pyplot as plt\n",
    "import seaborn as sns\n",
    "\n",
    "# Web Scrapping \n",
    "import pandas as pd\n",
    "import requests\n",
    "import utils\n",
    "from bs4 import BeautifulSoup\n",
    "\n",
    "# Regular Expressions\n",
    "import re\n",
    "\n",
    "#Dataset Split \n",
    "from sklearn.model_selection import train_test_split\n",
    "\n",
    "#Models\n",
    "from sklearn.linear_model import LogisticRegression\n",
    "from sklearn.neighbors import KNeighborsClassifier\n",
    "from  sklearn.ensemble import RandomForestClassifier\n",
    "from sklearn.tree import DecisionTreeClassifier\n",
    "from sklearn.svm import SVC\n",
    "\n",
    "#Metric Evaluations\n",
    "from sklearn.model_selection import cross_val_score\n",
    "\n",
    "# To enconde the categorials variables\n",
    "# This module has to be installed into the enviroment being used\n",
    "import category_encoders as ce\n",
    "\n",
    "# Evaluation Metrics\n",
    "from sklearn.metrics import accuracy_score, precision_score, \\\n",
    "    recall_score, f1_score, roc_auc_score, roc_curve, confusion_matrix, precision_score, recall_score\n",
    "\n",
    "#Pipelines\n",
    "from sklearn.preprocessing import Imputer, FunctionTransformer, OneHotEncoder\n",
    "from sklearn.pipeline import make_pipeline\n",
    "from sklearn.impute import SimpleImputer\n",
    "\n",
    "# Heroku\n",
    "import json\n",
    "import pickle\n",
    "import joblib\n",
    "from flask import Flask, request, jsonify"
   ]
  },
  {
   "cell_type": "markdown",
   "metadata": {},
   "source": [
    "### Generic Functions"
   ]
  },
  {
   "cell_type": "code",
   "execution_count": 2,
   "metadata": {},
   "outputs": [],
   "source": [
    "#Model Development\n",
    "def read_data() -> pd.DataFrame:\n",
    "    \"\"\"Imports a dataset containing history of cars searched for contraband. \n",
    "                                    \n",
    "    Returns\n",
    "        data (pd.DataFrame): Represents the entire dataset, but it ensures that column names are lower case and that are no\n",
    "                                 whitespaces in between the names\n",
    "                             The dataframe holds values for:\n",
    "                                Operation Details and Results (location of the intervention for example) for each car,\n",
    "                                and the Background of a driver.\n",
    "                  \n",
    "    \"\"\"\n",
    "    path = os.path.join('data', 'train.csv')\n",
    "    data = pd.read_csv(path, parse_dates=True)\n",
    "    \n",
    "    #Check with Caetano if this is necessary\n",
    "    for name in data.columns:\n",
    "        \n",
    "        data = data.rename(columns={name:name.lower().replace(\" \", \"_\")})\n",
    "        \n",
    "    return data"
   ]
  },
  {
   "cell_type": "code",
   "execution_count": 3,
   "metadata": {},
   "outputs": [],
   "source": [
    "# Model Develpoment\n",
    "def dropping_variables(df) -> pd.DataFrame:\n",
    "    \"\"\" This function returns a dataframe. Each that has a higher amount than 60% of missing values\n",
    "    is going to be dropped\n",
    "    \"\"\"\n",
    "    data = df.copy()\n",
    "    \n",
    "    variables_to_drop = []\n",
    "    \n",
    "    for col in data.columns:\n",
    "    \n",
    "        null_count = data[col].isnull().sum()\n",
    "        \n",
    "        if null_count > 0.6*len(data):\n",
    "            variables_to_drop.append(col)\n",
    "            \n",
    "    if variables_to_drop == []:\n",
    "        return data\n",
    "    else:\n",
    "        return data.drop([variables_to_drop],axis=1)   "
   ]
  },
  {
   "cell_type": "code",
   "execution_count": 4,
   "metadata": {},
   "outputs": [],
   "source": [
    "# Model Pre-Proccesing\n",
    "def replacing_missing_values(df) -> pd.DataFrame:\n",
    "    \"\"\"\n",
    "    \"\"\"\n",
    "    data = df.copy()\n",
    "    \n",
    "    cols_with_missing_values = []\n",
    "    col_names = data.columns.tolist()\n",
    "    \n",
    "    for col in col_names:\n",
    "        if data[col].isnull().sum() == 0:\n",
    "            pass\n",
    "        else:\n",
    "            cols_with_missing_values.append(col)\n",
    "            \n",
    "    for col in cols_with_missing_values:\n",
    "        if data[col].dtype.name == 'object':\n",
    "            data[col] = data[col].fillna(data[col].mode()[0])\n",
    "        elif data[col].dtype.name == bool:\n",
    "            data[col] = data[col].fillna(data[col].mode()[0])\n",
    "        else:\n",
    "            data[col] = data[col].fillna(data[col].median())\n",
    "            \n",
    "    return data"
   ]
  },
  {
   "cell_type": "code",
   "execution_count": 5,
   "metadata": {},
   "outputs": [],
   "source": [
    "# Model Pre-Processing \n",
    "def lower_strip_case_dtype_object(df) -> pd.DataFrame:\n",
    "    \"\"\" Returns a DataFrame in which all the object type variables have been converted to lower case \n",
    "    and the whitespaces on the edges have been removed.\n",
    "    \n",
    "    Args:\n",
    "        df(pd.DataFrame): Original DataFrame \n",
    "        \n",
    "    Returns:\n",
    "        data(pd.DataFrame): Lower and Strip case DataFrame\n",
    "    \"\"\"\n",
    "    data = df.copy()\n",
    "    \n",
    "    object_data = data.select_dtypes(include='object')\n",
    "    object_data_columns = object_data.columns\n",
    "    \n",
    "    for col in object_data_columns:\n",
    "        data[col] = data[col].str.lower().str.strip()\n",
    "    \n",
    "    return data"
   ]
  },
  {
   "cell_type": "markdown",
   "metadata": {},
   "source": [
    "### Functions"
   ]
  },
  {
   "cell_type": "code",
   "execution_count": 6,
   "metadata": {},
   "outputs": [],
   "source": [
    "def interventionlocation_validation_list():\n",
    "    \"\"\"\n",
    "    \"\"\"\n",
    "# Towns and Cities in Connecticut\n",
    "    towns_cities_url = 'https://portal.ct.gov/Government/Cities-and-Towns'\n",
    "    \n",
    "    response_1 = requests.get(towns_cities_url)\n",
    "    \n",
    "    \n",
    "    # Printing short output, if you want to see everything, delete the friendly_print function call\n",
    "    soup_1 = BeautifulSoup(response_1.content, 'html.parser')\n",
    "    \n",
    "    towns_and_cities_info = str(soup_1.findAll('a','title', class_=False))\n",
    "    \n",
    "    pattern_1 = r'\"\\b[A-z][a-z]*\\b \\b[A-z][a-z]*\\b\"|\"\\b[A-z][a-z]*\\b\"'\n",
    "    \n",
    "    connecticut_towns_and_cities =\\\n",
    "    [n.strip('\"') for n in re.findall(pattern_1, towns_and_cities_info)\\\n",
    "     if (n != '\"noopener noreferrer\"')& (n != '\"_blank\"')&(len(n)>3)][1:-1]\n",
    "    \n",
    "#census-designated places in Connecticut\n",
    "    cdp_connecticut_url = 'https://en.wikipedia.org/wiki/List_of_census-designated_places_in_Connecticut'\n",
    "    \n",
    "    response_2 = requests.get(cdp_connecticut_url)\n",
    "    \n",
    "    # Printing short output, if you want to see everything, delete the friendly_print function call\n",
    "    soup_2 = BeautifulSoup(response_2.content, 'html.parser')\n",
    "    \n",
    "    cdp_connecticut = str(soup_2.findAll('a','title', class_=False))\n",
    "    \n",
    "    pattern_2 = r'[title]{5}=(.*?,)'\n",
    "    \n",
    "    removing_special_characters = [re.sub('[\",]', '', n) for n in re.findall(pattern_2, cdp_connecticut)[3:-85]]\n",
    "\n",
    "    removing_county = [re.sub('[County]{6}', '', n) for n in removing_special_characters]\n",
    "\n",
    "    removing_cdp_village =  np.unique([n.split('(')[0].strip() for n in removing_county]).tolist()\n",
    "\n",
    "# Villages in connecticut \n",
    "\n",
    "    villages_connecticut_url = 'https://en.wikipedia.org/wiki/Category:Villages_in_Connecticut'\n",
    "\n",
    "    response_3 = requests.get(villages_connecticut_url)\n",
    "\n",
    "    # Printing short output, if you want to see everything, delete the friendly_print function call\n",
    "    soup_3= BeautifulSoup(response_3.content, 'html.parser')\n",
    "\n",
    "    villages_connecticut = str(soup_3.findAll('a','title', class_=False))\n",
    "    \n",
    "    pattern_2 = r'[title]{5}=(.*?,)'\n",
    "    \n",
    "    villages_list = [re.sub('[\",]', '', n) for n in re.findall(pattern_2, cdp_connecticut)[5:-37]]\n",
    "    \n",
    "    location_1_word = []\n",
    "    location_2_word = []\n",
    "    location_3_word = []\n",
    "    locations_more_than_3 = []\n",
    "    \n",
    "    for n in villages_list:\n",
    "        if len(n.split()) == 1:\n",
    "            location_1_word.append(n)\n",
    "        elif len(n.split()) == 2:\n",
    "            location_2_word.append(n)\n",
    "        elif len(n.split()) == 3:\n",
    "            location_3_word.append(n)\n",
    "        elif len(n.split()) > 3:\n",
    "            locations_more_than_3.append(n)\n",
    "    \n",
    "    location_2_word = [re.sub('[(CDP)]{5}', '', n) for n in location_2_word]\n",
    "    \n",
    "    locations_more_than_3_with_district = [x.split('District')[0]+'District'\\\n",
    "                                       for x in locations_more_than_3 if re.search('District', x)] \n",
    "    locations_more_than_3_no_district = [x.split('District')[0]+'District'\\\n",
    "                                       for x in locations_more_than_3 if not re.search('District', x)]\n",
    "    locations_more_than_3_clean = \\\n",
    "    locations_more_than_3_with_district + [locations_more_than_3_no_district[0].split('>')[0]] +\\\n",
    "    [' '.join(locations_more_than_3_no_district[1].split()[:2])]\n",
    "    \n",
    "    villages_final_list = location_1_word+location_2_word+location_3_word+locations_more_than_3_clean\n",
    "    \n",
    "# Final list Output\n",
    "\n",
    "    final_list = np.unique(connecticut_towns_and_cities + removing_cdp_village + villages_final_list).tolist()\n",
    "    \n",
    "    final_list = [n.lower() for n in final_list]\n",
    "    \n",
    "    return final_list"
   ]
  },
  {
   "cell_type": "code",
   "execution_count": 7,
   "metadata": {},
   "outputs": [],
   "source": [
    "# In connecticut there are:\n",
    "## 95 Distinct Police Departments\n",
    "## 15 CST troops\n",
    "## 11 Special Jurisdiction Police\n",
    "\n",
    "def cleaning_department_name(df) -> pd.DataFrame:\n",
    "    \"\"\" Returns a DataFrame with the variable department name corrected\n",
    "    \n",
    "    Args:\n",
    "        df(pd.DataFrame): represents a dataframe where the variable department_name\n",
    "                          as not been fixed yet\n",
    "    Returns:\n",
    "        data(pd.DataFrame): DataFrame with the variable department_name corrected\n",
    "    \"\"\"\n",
    "    data = df.copy()\n",
    "    \n",
    "    # Converts all strings to lower case\n",
    "    data['department_name'] = data['department_name'].str.lower()\n",
    "    \n",
    "    # Identifies the specific strings that have 3 or more words. Those were the only cases in which it \n",
    "    # was identified values with problems\n",
    "    indexes_to_change = data[data['department_name'].apply(lambda x: len(x.split())) >= 3].index\n",
    "    \n",
    "    data.loc[indexes_to_change,'department_name'] = data.loc[indexes_to_change,'department_name']\\\n",
    "    .apply(lambda x: x.replace('police','').strip())\n",
    "    \n",
    "    return data"
   ]
  },
  {
   "cell_type": "code",
   "execution_count": 8,
   "metadata": {},
   "outputs": [],
   "source": [
    "def cleaning_interventionlocation(df) -> pd.DataFrame:\n",
    "    \"\"\"\n",
    "    \"\"\"\n",
    "    \n",
    "    data = df.copy()\n",
    "    \n",
    "    data['interventionlocationname'] = \\\n",
    "    data['interventionlocationname'].apply(lambda x: str(x).strip().lower())\n",
    "    \n",
    "    index_to_change = data[~data['interventionlocationname'].isin(connecticut_towns_cities_cdp_villages)].index.tolist()\n",
    "    \n",
    "    data.loc[index_to_change,'interventionlocationname'] = 'other'\n",
    "    \n",
    "    return data"
   ]
  },
  {
   "cell_type": "code",
   "execution_count": 9,
   "metadata": {},
   "outputs": [],
   "source": [
    "def convert_to_datetime(df,n=100000) -> pd.DataFrame:  \n",
    "    \"\"\"Returns a sorted dataframe according to the dates in column interventiondatetime\n",
    "    \n",
    "    Args:\n",
    "        df(pd.DataFrame): Original DataFrame, it's not a transformation in a chain.\n",
    "        \n",
    "        n(int): represents the number of observations that are taken into consideration when\n",
    "                trying to detect the format of the datetime string\n",
    "        \n",
    "    Returns:\n",
    "        data(pd.DataFrame): Sorted Dataframe according to the converted (to_datetime)\n",
    "                            interventiondatetime variable\n",
    "    \"\"\"\n",
    "    data = df.copy()\n",
    "    \n",
    "    # The objective of this list of different formats is an attempt to try to prevent the model \n",
    "    # when cleaning the dataset for which it will make the requested predictions.\n",
    "    date_formats = [\"%Y-%m-%d %H:%M:%S %p\", \"%d-%m-%Y %H:%M:%S %p\", \"%m-%d-%Y %H:%M:%S %p\",\n",
    "                    \"%Y/%m/%d %H:%M:%S %p\", \"%d/%m/%Y %H:%M:%S %p\", \"%m/%d/%Y %H:%M:%S %p\", \n",
    "                    \"%Y.%m.%d %H:%M:%S %p\", \"%d.%m.%Y %H:%M:%S %p\", \"%m.%d.%Y %H:%M:%S %p\"]\n",
    "    \n",
    "    # This function return a list of format(s) that can be used to transform the data\n",
    "    # faster to date format. It is expeceted to return a single value in this list,\n",
    "    # but it can it has more than 1, the output of the overall function will raise an \n",
    "    # error\n",
    "    \n",
    "    def string_to_date(df):\n",
    "        match = []\n",
    "        for fmt in date_formats:\n",
    "            try:\n",
    "                pd.to_datetime(df,format = fmt)\n",
    "            except ValueError as e:\n",
    "                continue\n",
    "            match.append(fmt)\n",
    "        return match\n",
    "    \n",
    "    correct_format = string_to_date(data['interventiondatetime'][:n])\n",
    "    \n",
    "    # Validation test\n",
    "    if len(correct_format) != 1:\n",
    "        raise ValueError('Argument n has to be bigger')\n",
    "    else:\n",
    "    # I have inserted the format of time, to me more efficient in terms of time. However, I have to ensure \n",
    "    # that this is the format for the unseen data \n",
    "        data['interventiondatetime'] = pd.to_datetime(data['interventiondatetime'],format = correct_format[0])\n",
    "    \n",
    "        data = data.sort_values(by=['interventiondatetime'])\n",
    "    \n",
    "        return data"
   ]
  },
  {
   "cell_type": "code",
   "execution_count": 10,
   "metadata": {},
   "outputs": [],
   "source": [
    "def cleaning_status(df):\n",
    "    \"\"\"\n",
    "    \"\"\"\n",
    "    data = df.copy()\n",
    "    \n",
    "    index_to_change = data[data['statutereason']=='other/error'].index.tolist()\n",
    "    \n",
    "    data.loc[index_to_change,'statutereason'] = 'error'\n",
    "    \n",
    "    return data"
   ]
  },
  {
   "cell_type": "code",
   "execution_count": 11,
   "metadata": {},
   "outputs": [],
   "source": [
    "def cleaning_interventionreasoncode(df) -> pd.DataFrame:\n",
    "    \"\"\" This function has the purpose of ensuring that only [E,V,I] are represented in this variable,\n",
    "        the remaining ones will assumed to be null values\n",
    "        \n",
    "    Args:\n",
    "        df(pd.DataFrame): original data\n",
    "        \n",
    "    Return:\n",
    "        data(pd.DataFrame): is the same as the dataframe inserted as an argument, the variable interventionreasoncode\n",
    "        has been cleaned\n",
    "    \"\"\"\n",
    "    \n",
    "    data = df.copy()\n",
    "    \n",
    "    correct_values = ['v','e','i']\n",
    "    \n",
    "    data['interventionreasoncode'] = data['interventionreasoncode'].str.lower()\n",
    "    \n",
    "    index_to_change = data[~data['interventionreasoncode'].isin(correct_values)].index.tolist()\n",
    "    \n",
    "    data.loc[index_to_change,'interventionreasoncode'] = np.NaN\n",
    "    \n",
    "    return data   "
   ]
  },
  {
   "cell_type": "code",
   "execution_count": 12,
   "metadata": {},
   "outputs": [],
   "source": [
    "def cleaning_subject_age(df) -> pd.DataFrame:\n",
    "    \"\"\"\n",
    "    \"\"\"\n",
    "    \n",
    "    data = df.copy()\n",
    "    \n",
    "    index_to_change = data[data['subjectage'] < 14].index.tolist()\n",
    "    \n",
    "    data.loc[index_to_change,'subjectage'] = data['subjectage'].median()\n",
    "    \n",
    "    return data"
   ]
  },
  {
   "cell_type": "code",
   "execution_count": 13,
   "metadata": {},
   "outputs": [],
   "source": [
    "def replace_wrong_reporting_officer_id(df):\n",
    "    \"\"\"\n",
    "    \"\"\"\n",
    "    data = df.copy()\n",
    "    \n",
    "    index_to_change = data[data['reportingofficeridentificationid']\\\n",
    "         .apply(lambda x: len(str(x))) >= 13]['reportingofficeridentificationid'].index.tolist()\n",
    "    \n",
    "    data.loc[index_to_change,'reportingofficeridentificationid'] = np.NaN\n",
    "    \n",
    "    return data"
   ]
  },
  {
   "cell_type": "markdown",
   "metadata": {},
   "source": [
    "### Reading Data"
   ]
  },
  {
   "cell_type": "code",
   "execution_count": 14,
   "metadata": {},
   "outputs": [],
   "source": [
    "data = read_data()"
   ]
  },
  {
   "cell_type": "code",
   "execution_count": 15,
   "metadata": {},
   "outputs": [],
   "source": [
    "connecticut_towns_cities_cdp_villages = interventionlocation_validation_list()"
   ]
  },
  {
   "cell_type": "markdown",
   "metadata": {},
   "source": [
    "### Pre-Processing"
   ]
  },
  {
   "cell_type": "code",
   "execution_count": 16,
   "metadata": {},
   "outputs": [],
   "source": [
    "def cleaning_dataset(df) -> pd.DataFrame:\n",
    "    \"\"\"\n",
    "    \"\"\"\n",
    "    data = df.copy()\n",
    "    \n",
    "    data = lower_strip_case_dtype_object(data)\n",
    "    \n",
    "    data = cleaning_department_name(data)\n",
    "    \n",
    "    data = cleaning_interventionlocation(data)\n",
    "    \n",
    "    data = convert_to_datetime(data,n=100000)\n",
    "    \n",
    "    data = cleaning_status(data)\n",
    "    \n",
    "    data = cleaning_interventionreasoncode(data)\n",
    "    \n",
    "    # Here we lose 811 observations\n",
    "    # Not only they represent outliers as the minimum age \n",
    "    # to drive in the state of Connecticut is 16\n",
    "    data = cleaning_subject_age(data)\n",
    "    \n",
    "    data = replace_wrong_reporting_officer_id(data)\n",
    "    \n",
    "    data = dropping_variables(data)\n",
    "    \n",
    "    data = replacing_missing_values(data)\n",
    "    \n",
    "    # We now do not have duplicated values anymore\n",
    "    return data"
   ]
  },
  {
   "cell_type": "code",
   "execution_count": 17,
   "metadata": {},
   "outputs": [],
   "source": [
    "data_preprocessed = cleaning_dataset(data)"
   ]
  },
  {
   "cell_type": "code",
   "execution_count": 18,
   "metadata": {},
   "outputs": [],
   "source": [
    "data_preprocessed.to_csv('data/data_preprocessed.csv')"
   ]
  },
  {
   "cell_type": "markdown",
   "metadata": {},
   "source": [
    "# Over-Sampling"
   ]
  },
  {
   "cell_type": "code",
   "execution_count": 19,
   "metadata": {},
   "outputs": [],
   "source": [
    "data_preprocessed = data_preprocessed.append(data_preprocessed[data_preprocessed['contrabandindicator']==1],ignore_index=True)"
   ]
  },
  {
   "cell_type": "code",
   "execution_count": 20,
   "metadata": {},
   "outputs": [
    {
     "name": "stdout",
     "output_type": "stream",
     "text": [
      "Contraband Ratio: 2.27\n"
     ]
    }
   ],
   "source": [
    "#Contraband Ratio\n",
    "print(\"Contraband Ratio: {}\".format(round(((data_preprocessed['contrabandindicator']==1).sum()/len(data_preprocessed))*100,2)))\\"
   ]
  },
  {
   "cell_type": "markdown",
   "metadata": {},
   "source": [
    "## Baseline"
   ]
  },
  {
   "cell_type": "code",
   "execution_count": 21,
   "metadata": {},
   "outputs": [],
   "source": [
    "X = data_preprocessed.drop(['contrabandindicator'],axis=1)\n",
    "y = data_preprocessed['contrabandindicator']"
   ]
  },
  {
   "cell_type": "markdown",
   "metadata": {},
   "source": [
    "# Encoding Categorical Variables"
   ]
  },
  {
   "cell_type": "code",
   "execution_count": 22,
   "metadata": {},
   "outputs": [],
   "source": [
    "# def encoding_categorical(dataframe):\n",
    "    \n",
    "#     df = dataframe.copy()\n",
    "    \n",
    "#     df = df.drop(['reportingofficeridentificationid','subjectsexcode','subjectracecode','subjectethnicitycode'],axis=1)\n",
    "    \n",
    "#     df_cat = df.select_dtypes(include='object')\n",
    "#     df_int = df.select_dtypes(exclude='object')\n",
    "#     # initialize transformer with desired options\n",
    "#     ohe = ce.one_hot.OneHotEncoder(use_cat_names=True, handle_unknown='indicator')\n",
    "    \n",
    "#     # save data to scale (no need to reshape)\n",
    "#     X = df_cat\n",
    "    \n",
    "#     # fit transformer to data\n",
    "#     ohe.fit(X)\n",
    "    \n",
    "#     # create new feature by transforming the data\n",
    "#     X_ohe = ohe.transform(X)\n",
    "    \n",
    "#     model_df = pd.merge(X_ohe, df_int, left_index=True, right_index=True)\n",
    "    \n",
    "#     return model_df"
   ]
  },
  {
   "cell_type": "code",
   "execution_count": 23,
   "metadata": {},
   "outputs": [],
   "source": [
    "X = X.drop(['interventiondatetime','reportingofficeridentificationid'\n",
    "            ,'subjectsexcode','subjectracecode','subjectethnicitycode'],axis=1)"
   ]
  },
  {
   "cell_type": "code",
   "execution_count": 24,
   "metadata": {},
   "outputs": [],
   "source": [
    "# X = encoding_categorical(X)"
   ]
  },
  {
   "cell_type": "markdown",
   "metadata": {},
   "source": [
    "# Splitter "
   ]
  },
  {
   "cell_type": "code",
   "execution_count": 25,
   "metadata": {},
   "outputs": [
    {
     "name": "stdout",
     "output_type": "stream",
     "text": [
      "---\n",
      "Number of observations:\n",
      "Train: 1751388 | Test: 750596\n"
     ]
    }
   ],
   "source": [
    "X_train, X_test, y_train, y_test = train_test_split(X, y, test_size=0.3)\n",
    "print(\"---\\nNumber of observations:\\nTrain: {} | Test: {}\".format(X_train.shape[0], X_test.shape[0]))"
   ]
  },
  {
   "cell_type": "markdown",
   "metadata": {},
   "source": [
    "# Models"
   ]
  },
  {
   "cell_type": "markdown",
   "metadata": {},
   "source": [
    "### Creating Pipelines"
   ]
  },
  {
   "cell_type": "code",
   "execution_count": 26,
   "metadata": {},
   "outputs": [],
   "source": [
    "model_1 = RandomForestClassifier(random_state=42)"
   ]
  },
  {
   "cell_type": "code",
   "execution_count": 27,
   "metadata": {},
   "outputs": [],
   "source": [
    "model_2 = LogisticRegression(random_state=42)"
   ]
  },
  {
   "cell_type": "code",
   "execution_count": 28,
   "metadata": {},
   "outputs": [],
   "source": [
    "model_3 = DecisionTreeClassifier(random_state=42)"
   ]
  },
  {
   "cell_type": "code",
   "execution_count": 29,
   "metadata": {},
   "outputs": [],
   "source": [
    "model_4 = KNeighborsClassifier()"
   ]
  },
  {
   "cell_type": "markdown",
   "metadata": {},
   "source": [
    "### Training The Different Models"
   ]
  },
  {
   "cell_type": "code",
   "execution_count": 30,
   "metadata": {},
   "outputs": [
    {
     "name": "stderr",
     "output_type": "stream",
     "text": [
      "C:\\Users\\caixi\\Anaconda3\\envs\\capstone_project\\lib\\site-packages\\sklearn\\ensemble\\forest.py:245: FutureWarning: The default value of n_estimators will change from 10 in version 0.20 to 100 in 0.22.\n",
      "  \"10 in version 0.20 to 100 in 0.22.\", FutureWarning)\n"
     ]
    },
    {
     "data": {
      "text/plain": [
       "RandomForestClassifier(bootstrap=True, class_weight=None, criterion='gini',\n",
       "                       max_depth=None, max_features='auto', max_leaf_nodes=None,\n",
       "                       min_impurity_decrease=0.0, min_impurity_split=None,\n",
       "                       min_samples_leaf=1, min_samples_split=2,\n",
       "                       min_weight_fraction_leaf=0.0, n_estimators=10,\n",
       "                       n_jobs=None, oob_score=False, random_state=42, verbose=0,\n",
       "                       warm_start=False)"
      ]
     },
     "execution_count": 30,
     "metadata": {},
     "output_type": "execute_result"
    }
   ],
   "source": [
    "model_1.fit(X_train,y_train)"
   ]
  },
  {
   "cell_type": "code",
   "execution_count": null,
   "metadata": {},
   "outputs": [],
   "source": [
    "model_4.fit(X_train,y_train)"
   ]
  },
  {
   "cell_type": "code",
   "execution_count": null,
   "metadata": {},
   "outputs": [],
   "source": [
    "model_3.fit(X_train,y_train)"
   ]
  },
  {
   "cell_type": "code",
   "execution_count": null,
   "metadata": {},
   "outputs": [],
   "source": [
    "model_4.fit(X_train,y_train)"
   ]
  },
  {
   "cell_type": "markdown",
   "metadata": {},
   "source": [
    "#### Support Vector Classifier"
   ]
  },
  {
   "cell_type": "code",
   "execution_count": 28,
   "metadata": {},
   "outputs": [],
   "source": [
    "# 1-choose the model\n",
    "# svc = SVC(kernel=\"linear\", C=1)"
   ]
  },
  {
   "cell_type": "code",
   "execution_count": 29,
   "metadata": {},
   "outputs": [],
   "source": [
    "# 2-Fit the model\n",
    "# svc.fit(X_train, y_train)"
   ]
  },
  {
   "cell_type": "code",
   "execution_count": 30,
   "metadata": {},
   "outputs": [],
   "source": [
    "# 3-Make predictions\n",
    "# y_pred = svc.predict(X_test)\n",
    "\n",
    "# 4-Evaluate predictions quality\n",
    "# score = svc.score(X_test, y_test)"
   ]
  },
  {
   "cell_type": "markdown",
   "metadata": {},
   "source": [
    "# Making Predictions"
   ]
  },
  {
   "cell_type": "code",
   "execution_count": 31,
   "metadata": {},
   "outputs": [],
   "source": [
    "y_pred = model.predict(X_test)"
   ]
  },
  {
   "cell_type": "code",
   "execution_count": 32,
   "metadata": {},
   "outputs": [],
   "source": [
    "y_pred_proba = model.predict_proba(X_test)"
   ]
  },
  {
   "cell_type": "markdown",
   "metadata": {},
   "source": [
    "# Saving Predictions as CSV"
   ]
  },
  {
   "cell_type": "code",
   "execution_count": 33,
   "metadata": {},
   "outputs": [],
   "source": [
    "pd.DataFrame(y_pred,columns=['predictions']).to_csv('data/predictions.csv')"
   ]
  },
  {
   "cell_type": "markdown",
   "metadata": {},
   "source": [
    "# Evaluation"
   ]
  },
  {
   "cell_type": "markdown",
   "metadata": {},
   "source": [
    "### Confusion Matrix"
   ]
  },
  {
   "cell_type": "code",
   "execution_count": 34,
   "metadata": {},
   "outputs": [],
   "source": [
    "# this is scikit-learn's confusion matrix, we will use it a lot! \n",
    "confmat = confusion_matrix(y_true=y_test, \n",
    "                           y_pred=y_pred)"
   ]
  },
  {
   "cell_type": "code",
   "execution_count": 35,
   "metadata": {},
   "outputs": [
    {
     "data": {
      "text/plain": [
       "array([[729674,   3830],\n",
       "       [  4052,  13040]], dtype=int64)"
      ]
     },
     "execution_count": 35,
     "metadata": {},
     "output_type": "execute_result"
    }
   ],
   "source": [
    "confmat"
   ]
  },
  {
   "cell_type": "markdown",
   "metadata": {},
   "source": [
    "#### Accuracy Score"
   ]
  },
  {
   "cell_type": "code",
   "execution_count": 36,
   "metadata": {},
   "outputs": [
    {
     "name": "stdout",
     "output_type": "stream",
     "text": [
      "Accuracy = 0.989\n"
     ]
    }
   ],
   "source": [
    "print('Accuracy = %2.3f' % accuracy_score(y_pred=y_pred, y_true=y_test))"
   ]
  },
  {
   "cell_type": "markdown",
   "metadata": {},
   "source": [
    "#### Precision Score"
   ]
  },
  {
   "cell_type": "code",
   "execution_count": 37,
   "metadata": {},
   "outputs": [
    {
     "data": {
      "text/plain": [
       "0.7729697688203913"
      ]
     },
     "execution_count": 37,
     "metadata": {},
     "output_type": "execute_result"
    }
   ],
   "source": [
    "precision_score(y_pred=y_pred, y_true=y_test)"
   ]
  },
  {
   "cell_type": "markdown",
   "metadata": {},
   "source": [
    "#### Recall Score"
   ]
  },
  {
   "cell_type": "code",
   "execution_count": 38,
   "metadata": {},
   "outputs": [
    {
     "data": {
      "text/plain": [
       "0.7629300257430377"
      ]
     },
     "execution_count": 38,
     "metadata": {},
     "output_type": "execute_result"
    }
   ],
   "source": [
    "recall_score(y_pred=y_pred, y_true=y_test)"
   ]
  },
  {
   "cell_type": "markdown",
   "metadata": {},
   "source": [
    "### ROC Curves"
   ]
  },
  {
   "cell_type": "code",
   "execution_count": 39,
   "metadata": {},
   "outputs": [
    {
     "name": "stdout",
     "output_type": "stream",
     "text": [
      "The AU ROC of our classifier is = 0.879\n"
     ]
    }
   ],
   "source": [
    "# We will use the AUROC curve as the validation metric\n",
    "\n",
    "# The Area Under the ROC curve:\n",
    "roc_auc = roc_auc_score(y_score=y_pred, y_true=y_test)\n",
    "print('The AU ROC of our classifier is = %.3f' % roc_auc)\n",
    "\n",
    "# Data to compute the ROC curve (FPR and TPR):\n",
    "fpr, tpr, thresholds = roc_curve(y_score=y_pred, y_true=y_test)\n",
    "\n",
    "def plot_roc_curve(roc_auc, fpr, tpr):\n",
    "    # Inputs: \n",
    "    #     roc_auc - AU ROC value (float)\n",
    "    #     fpr - false positive rate (output of roc_curve()) array\n",
    "    #     tpr - true positive rate (output of roc_curve()) array\n",
    "    \n",
    "    plt.figure(figsize=(8,6))\n",
    "    lw = 2\n",
    "    plt.plot(fpr, tpr, color='orange', lw=lw, label='ROC curve (AUROC = %0.2f)' % roc_auc)\n",
    "    plt.plot([0, 1], [0, 1], color='navy', lw=lw, linestyle='--', label='random')\n",
    "    plt.xlim([-0.05, 1.0])\n",
    "    plt.ylim([0.0, 1.05])\n",
    "    plt.grid()\n",
    "    plt.xlabel('False Positive Rate')\n",
    "    plt.ylabel('True Positive Rate')\n",
    "    plt.title('Receiver operating characteristic')\n",
    "    plt.legend(loc=\"lower right\")\n",
    "    plt.show()"
   ]
  },
  {
   "cell_type": "code",
   "execution_count": 40,
   "metadata": {},
   "outputs": [
    {
     "data": {
      "image/png": "[encoded data removed]",
      "text/plain": [
       "<Figure size 576x432 with 1 Axes>"
      ]
     },
     "metadata": {
      "needs_background": "light"
     },
     "output_type": "display_data"
    }
   ],
   "source": [
    "plot_roc_curve(roc_auc, fpr, tpr)"
   ]
  },
  {
   "cell_type": "markdown",
   "metadata": {},
   "source": [
    "# Only For The Chosen Model"
   ]
  },
  {
   "cell_type": "markdown",
   "metadata": {},
   "source": [
    "# Preparing the Model for Heroku "
   ]
  },
  {
   "cell_type": "markdown",
   "metadata": {},
   "source": [
    "#### Creating Baseline"
   ]
  },
  {
   "cell_type": "code",
   "execution_count": 26,
   "metadata": {},
   "outputs": [],
   "source": [
    "pipeline = make_pipeline(ce.OneHotEncoder(handle_unknown='ignore'),\n",
    "                         SimpleImputer(strategy='median'),\n",
    "                       RandomForestClassifier(random_state=42),\n",
    "                        )"
   ]
  },
  {
   "cell_type": "code",
   "execution_count": 27,
   "metadata": {},
   "outputs": [
    {
     "name": "stderr",
     "output_type": "stream",
     "text": [
      "C:\\Users\\caixi\\Anaconda3\\envs\\capstone_project\\lib\\site-packages\\sklearn\\ensemble\\forest.py:245: FutureWarning: The default value of n_estimators will change from 10 in version 0.20 to 100 in 0.22.\n",
      "  \"10 in version 0.20 to 100 in 0.22.\", FutureWarning)\n"
     ]
    },
    {
     "data": {
      "text/plain": [
       "Pipeline(memory=None,\n",
       "         steps=[('onehotencoder',\n",
       "                 OneHotEncoder(cols=['department_name',\n",
       "                                     'interventionlocationname',\n",
       "                                     'interventionreasoncode',\n",
       "                                     'searchauthorizationcode',\n",
       "                                     'statutereason'],\n",
       "                               drop_invariant=False, handle_missing='value',\n",
       "                               handle_unknown='ignore', return_df=True,\n",
       "                               use_cat_names=False, verbose=0)),\n",
       "                ('simpleimputer',\n",
       "                 SimpleImputer(add_indicator=False, copy=T...\n",
       "                 RandomForestClassifier(bootstrap=True, class_weight=None,\n",
       "                                        criterion='gini', max_depth=None,\n",
       "                                        max_features='auto',\n",
       "                                        max_leaf_nodes=None,\n",
       "                                        min_impurity_decrease=0.0,\n",
       "                                        min_impurity_split=None,\n",
       "                                        min_samples_leaf=1, min_samples_split=2,\n",
       "                                        min_weight_fraction_leaf=0.0,\n",
       "                                        n_estimators=10, n_jobs=None,\n",
       "                                        oob_score=False, random_state=42,\n",
       "                                        verbose=0, warm_start=False))],\n",
       "         verbose=False)"
      ]
     },
     "execution_count": 27,
     "metadata": {},
     "output_type": "execute_result"
    }
   ],
   "source": [
    "pipeline.fit(X_train,y_train)"
   ]
  },
  {
   "cell_type": "markdown",
   "metadata": {},
   "source": [
    "#### Preparing new observations"
   ]
  },
  {
   "cell_type": "code",
   "execution_count": null,
   "metadata": {},
   "outputs": [],
   "source": [
    "## They will enter as a Json String \n",
    "# new_obs_dict = json.loads(new_obs_str)"
   ]
  },
  {
   "cell_type": "code",
   "execution_count": null,
   "metadata": {},
   "outputs": [],
   "source": [
    "# obs = pd.DataFrame([new_obs_dict],X_train.columns.tolist())"
   ]
  },
  {
   "cell_type": "code",
   "execution_count": null,
   "metadata": {},
   "outputs": [],
   "source": [
    "# obs = obs.astype(X_train.dtypes)"
   ]
  },
  {
   "cell_type": "markdown",
   "metadata": {},
   "source": [
    "#### Implement the Pre-Processing on New Observations"
   ]
  },
  {
   "cell_type": "code",
   "execution_count": null,
   "metadata": {},
   "outputs": [],
   "source": []
  },
  {
   "cell_type": "markdown",
   "metadata": {},
   "source": [
    "#### Serializing the Columns in the correct order"
   ]
  },
  {
   "cell_type": "code",
   "execution_count": 28,
   "metadata": {},
   "outputs": [],
   "source": [
    "with open('columns.json', 'w') as fh:\n",
    "    json.dump(X_train.columns.tolist(),fh)"
   ]
  },
  {
   "cell_type": "code",
   "execution_count": 30,
   "metadata": {},
   "outputs": [],
   "source": [
    "with open('dtypes.pickle', 'wb') as fh:\n",
    "    pickle.dump(X_train.dtypes,fh)"
   ]
  },
  {
   "cell_type": "markdown",
   "metadata": {},
   "source": [
    "#### Serializing the fitted model"
   ]
  },
  {
   "cell_type": "code",
   "execution_count": 31,
   "metadata": {},
   "outputs": [
    {
     "data": {
      "text/plain": [
       "['pipeline.pickle']"
      ]
     },
     "execution_count": 31,
     "metadata": {},
     "output_type": "execute_result"
    }
   ],
   "source": [
    "joblib.dump(pipeline,'pipeline.pickle')"
   ]
  },
  {
   "cell_type": "markdown",
   "metadata": {},
   "source": [
    "#### Deserialize the Model\n",
    "\n",
    "- This step is to be applied in the in the server I believe"
   ]
  },
  {
   "cell_type": "code",
   "execution_count": null,
   "metadata": {},
   "outputs": [],
   "source": [
    "# Deserializing Columns\n",
    "with open('columns.json', 'r') as fh:\n",
    "    columns = json.load(fh)"
   ]
  },
  {
   "cell_type": "code",
   "execution_count": null,
   "metadata": {},
   "outputs": [],
   "source": [
    "# Un-pickle Dtypes\n",
    "with open('dtypes.pickle', 'rb') as fh:\n",
    "    pickle.load(fh)"
   ]
  },
  {
   "cell_type": "code",
   "execution_count": null,
   "metadata": {},
   "outputs": [],
   "source": [
    "# Deserializing pipeline\n",
    "model_fitted = joblib.load('pipeline.pickle')"
   ]
  }
 ],
 "metadata": {
  "kernelspec": {
   "display_name": "Python 3",
   "language": "python",
   "name": "python3"
  },
  "language_info": {
   "codemirror_mode": {
    "name": "ipython",
    "version": 3
   },
   "file_extension": ".py",
   "mimetype": "text/x-python",
   "name": "python",
   "nbconvert_exporter": "python",
   "pygments_lexer": "ipython3",
   "version": "3.7.3"
  }
 },
 "nbformat": 4,
 "nbformat_minor": 2
}
